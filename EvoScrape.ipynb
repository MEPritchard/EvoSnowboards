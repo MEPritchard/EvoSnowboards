{
  "nbformat": 4,
  "nbformat_minor": 0,
  "metadata": {
    "colab": {
      "provenance": []
    },
    "kernelspec": {
      "name": "python3",
      "display_name": "Python 3"
    },
    "language_info": {
      "name": "python"
    }
  },
  "cells": [
    {
      "cell_type": "code",
      "execution_count": 1,
      "metadata": {
        "id": "Lf6BcCjYO9-r"
      },
      "outputs": [],
      "source": [
        "import requests\n",
        "import re\n",
        "from bs4 import BeautifulSoup as BS\n",
        "import pandas as pd\n",
        "import datetime\n",
        "import csv"
      ]
    },
    {
      "cell_type": "code",
      "metadata": {
        "id": "d89Fk6C7SYGS"
      },
      "source": [
        "\n",
        "evo = \"https://www.evo.com/shop/snowboard/snowboards/rpp_400\"\n",
        "headers = {'User-agent': 'Mozilla/5.0'}\n",
        "response = requests.get(evo, headers = headers)"
      ],
      "execution_count": null,
      "outputs": []
    },
    {
      "cell_type": "code",
      "metadata": {
        "id": "YNYafellScW_",
        "outputId": "8615af50-b707-4b66-bb09-d837d62f99cf",
        "colab": {
          "base_uri": "https://localhost:8080/"
        }
      },
      "source": [
        "response"
      ],
      "execution_count": null,
      "outputs": [
        {
          "output_type": "execute_result",
          "data": {
            "text/plain": [
              "<Response [200]>"
            ]
          },
          "metadata": {},
          "execution_count": 3
        }
      ]
    },
    {
      "cell_type": "code",
      "metadata": {
        "id": "ZbGJ7hbZShPZ"
      },
      "source": [
        "soup = BS(response.content,'html.parser')\n"
      ],
      "execution_count": null,
      "outputs": []
    },
    {
      "cell_type": "code",
      "metadata": {
        "id": "eMnuLRQzS0--"
      },
      "source": [
        "items = soup.find_all('div',{'class':'product-thumb-details'})\n"
      ],
      "execution_count": null,
      "outputs": []
    },
    {
      "cell_type": "code",
      "metadata": {
        "id": "BwrlBNAKS9xJ"
      },
      "source": [
        "def company_cleaner (title_str):\n",
        "  names = []\n",
        "  for snowboard in items:\n",
        "    names.append((snowboard.find('span',{'class':'product-thumb-title'}).text).split(' ')[0])\n",
        "\n",
        "  return names\n",
        "\n",
        "def board_cleaner(title_str):\n",
        "  names = []\n",
        "  for snowboard in items:\n",
        "    names.append((snowboard.find('span',{'class':'product-thumb-title'}).text))\n",
        "  return names\n"
      ],
      "execution_count": null,
      "outputs": []
    },
    {
      "cell_type": "code",
      "metadata": {
        "id": "M3p2ZeOaHeHT"
      },
      "source": [
        "brands = company_cleaner(items)\n",
        "boards = board_cleaner(items)"
      ],
      "execution_count": null,
      "outputs": []
    },
    {
      "cell_type": "code",
      "metadata": {
        "id": "CMY9xwJ6-eGn"
      },
      "source": [
        "def price_finder(soups):\n",
        "  price_pattern = r'([\\d+\\,]+\\d+\\.\\d{1,2})'\n",
        "  price_list = []\n",
        "  for slop in soups:\n",
        "    price_list.append((re.findall(price_pattern, str(slop))))\n",
        "  return price_list"
      ],
      "execution_count": null,
      "outputs": []
    },
    {
      "cell_type": "code",
      "metadata": {
        "id": "btOKj-qgJ1s3"
      },
      "source": [
        "stringprices = price_finder(items)"
      ],
      "execution_count": null,
      "outputs": []
    },
    {
      "cell_type": "code",
      "metadata": {
        "id": "yh6Pzp1LLmRY"
      },
      "source": [
        "#need to regex remove ',' from $1000+ items in price_finder then convert str to float\n",
        "def price_cleaner(prices):\n",
        "  finalprice=[]\n",
        "  for pricelist in prices:\n",
        "    rinsedprice =[]\n",
        "    finalprice.append(rinsedprice)\n",
        "    for price in pricelist:\n",
        "      rinsedprice.append(float(price.replace(',','')))\n",
        "  return finalprice  "
      ],
      "execution_count": null,
      "outputs": []
    },
    {
      "cell_type": "code",
      "metadata": {
        "id": "YYSV-DjMOMa2",
        "colab": {
          "base_uri": "https://localhost:8080/"
        },
        "outputId": "e817b1e2-2305-4e5e-a938-9c65ab509442"
      },
      "source": [
        "prices = price_cleaner(stringprices)\n",
        "prices[0]"
      ],
      "execution_count": null,
      "outputs": [
        {
          "output_type": "execute_result",
          "data": {
            "text/plain": [
              "[499.0, 499.0, 349.3]"
            ]
          },
          "metadata": {},
          "execution_count": 11
        }
      ]
    },
    {
      "cell_type": "code",
      "metadata": {
        "id": "tjRi-WLjnZ0D"
      },
      "source": [
        "collected = [str(datetime.date.today())]*len(boards)"
      ],
      "execution_count": null,
      "outputs": []
    },
    {
      "cell_type": "code",
      "metadata": {
        "id": "qDiL7hYHUBRU",
        "colab": {
          "base_uri": "https://localhost:8080/"
        },
        "outputId": "e6416d97-3149-4aad-9653-296f71cdf3c7"
      },
      "source": [
        "complete = list(zip(collected, boards, brands))\n",
        "complete[0]"
      ],
      "execution_count": null,
      "outputs": [
        {
          "output_type": "execute_result",
          "data": {
            "text/plain": [
              "('2023-03-29', 'Season Kin Snowboard 2023', 'Season')"
            ]
          },
          "metadata": {},
          "execution_count": 13
        }
      ]
    },
    {
      "cell_type": "code",
      "metadata": {
        "id": "jEiS8pILXBC0",
        "colab": {
          "base_uri": "https://localhost:8080/",
          "height": 206
        },
        "outputId": "79e2760e-43dd-4cd0-aeef-520191c5b807"
      },
      "source": [
        "priceframe = pd.DataFrame(prices, columns = 'main dropprice sale non'.split())\n",
        "priceframe.head()"
      ],
      "execution_count": null,
      "outputs": [
        {
          "output_type": "execute_result",
          "data": {
            "text/plain": [
              "      main  dropprice    sale  non\n",
              "0   499.00     499.00  349.30  NaN\n",
              "1   329.95     329.95  263.96  NaN\n",
              "2   899.95     899.95  764.96  NaN\n",
              "3   599.95     599.95  479.96  NaN\n",
              "4  1199.99    1199.99  959.99  NaN"
            ],
            "text/html": [
              "\n",
              "  <div id=\"df-9a926cdd-611e-41fa-bd17-2950f0b9e2ae\">\n",
              "    <div class=\"colab-df-container\">\n",
              "      <div>\n",
              "<style scoped>\n",
              "    .dataframe tbody tr th:only-of-type {\n",
              "        vertical-align: middle;\n",
              "    }\n",
              "\n",
              "    .dataframe tbody tr th {\n",
              "        vertical-align: top;\n",
              "    }\n",
              "\n",
              "    .dataframe thead th {\n",
              "        text-align: right;\n",
              "    }\n",
              "</style>\n",
              "<table border=\"1\" class=\"dataframe\">\n",
              "  <thead>\n",
              "    <tr style=\"text-align: right;\">\n",
              "      <th></th>\n",
              "      <th>main</th>\n",
              "      <th>dropprice</th>\n",
              "      <th>sale</th>\n",
              "      <th>non</th>\n",
              "    </tr>\n",
              "  </thead>\n",
              "  <tbody>\n",
              "    <tr>\n",
              "      <th>0</th>\n",
              "      <td>499.00</td>\n",
              "      <td>499.00</td>\n",
              "      <td>349.30</td>\n",
              "      <td>NaN</td>\n",
              "    </tr>\n",
              "    <tr>\n",
              "      <th>1</th>\n",
              "      <td>329.95</td>\n",
              "      <td>329.95</td>\n",
              "      <td>263.96</td>\n",
              "      <td>NaN</td>\n",
              "    </tr>\n",
              "    <tr>\n",
              "      <th>2</th>\n",
              "      <td>899.95</td>\n",
              "      <td>899.95</td>\n",
              "      <td>764.96</td>\n",
              "      <td>NaN</td>\n",
              "    </tr>\n",
              "    <tr>\n",
              "      <th>3</th>\n",
              "      <td>599.95</td>\n",
              "      <td>599.95</td>\n",
              "      <td>479.96</td>\n",
              "      <td>NaN</td>\n",
              "    </tr>\n",
              "    <tr>\n",
              "      <th>4</th>\n",
              "      <td>1199.99</td>\n",
              "      <td>1199.99</td>\n",
              "      <td>959.99</td>\n",
              "      <td>NaN</td>\n",
              "    </tr>\n",
              "  </tbody>\n",
              "</table>\n",
              "</div>\n",
              "      <button class=\"colab-df-convert\" onclick=\"convertToInteractive('df-9a926cdd-611e-41fa-bd17-2950f0b9e2ae')\"\n",
              "              title=\"Convert this dataframe to an interactive table.\"\n",
              "              style=\"display:none;\">\n",
              "        \n",
              "  <svg xmlns=\"http://www.w3.org/2000/svg\" height=\"24px\"viewBox=\"0 0 24 24\"\n",
              "       width=\"24px\">\n",
              "    <path d=\"M0 0h24v24H0V0z\" fill=\"none\"/>\n",
              "    <path d=\"M18.56 5.44l.94 2.06.94-2.06 2.06-.94-2.06-.94-.94-2.06-.94 2.06-2.06.94zm-11 1L8.5 8.5l.94-2.06 2.06-.94-2.06-.94L8.5 2.5l-.94 2.06-2.06.94zm10 10l.94 2.06.94-2.06 2.06-.94-2.06-.94-.94-2.06-.94 2.06-2.06.94z\"/><path d=\"M17.41 7.96l-1.37-1.37c-.4-.4-.92-.59-1.43-.59-.52 0-1.04.2-1.43.59L10.3 9.45l-7.72 7.72c-.78.78-.78 2.05 0 2.83L4 21.41c.39.39.9.59 1.41.59.51 0 1.02-.2 1.41-.59l7.78-7.78 2.81-2.81c.8-.78.8-2.07 0-2.86zM5.41 20L4 18.59l7.72-7.72 1.47 1.35L5.41 20z\"/>\n",
              "  </svg>\n",
              "      </button>\n",
              "      \n",
              "  <style>\n",
              "    .colab-df-container {\n",
              "      display:flex;\n",
              "      flex-wrap:wrap;\n",
              "      gap: 12px;\n",
              "    }\n",
              "\n",
              "    .colab-df-convert {\n",
              "      background-color: #E8F0FE;\n",
              "      border: none;\n",
              "      border-radius: 50%;\n",
              "      cursor: pointer;\n",
              "      display: none;\n",
              "      fill: #1967D2;\n",
              "      height: 32px;\n",
              "      padding: 0 0 0 0;\n",
              "      width: 32px;\n",
              "    }\n",
              "\n",
              "    .colab-df-convert:hover {\n",
              "      background-color: #E2EBFA;\n",
              "      box-shadow: 0px 1px 2px rgba(60, 64, 67, 0.3), 0px 1px 3px 1px rgba(60, 64, 67, 0.15);\n",
              "      fill: #174EA6;\n",
              "    }\n",
              "\n",
              "    [theme=dark] .colab-df-convert {\n",
              "      background-color: #3B4455;\n",
              "      fill: #D2E3FC;\n",
              "    }\n",
              "\n",
              "    [theme=dark] .colab-df-convert:hover {\n",
              "      background-color: #434B5C;\n",
              "      box-shadow: 0px 1px 3px 1px rgba(0, 0, 0, 0.15);\n",
              "      filter: drop-shadow(0px 1px 2px rgba(0, 0, 0, 0.3));\n",
              "      fill: #FFFFFF;\n",
              "    }\n",
              "  </style>\n",
              "\n",
              "      <script>\n",
              "        const buttonEl =\n",
              "          document.querySelector('#df-9a926cdd-611e-41fa-bd17-2950f0b9e2ae button.colab-df-convert');\n",
              "        buttonEl.style.display =\n",
              "          google.colab.kernel.accessAllowed ? 'block' : 'none';\n",
              "\n",
              "        async function convertToInteractive(key) {\n",
              "          const element = document.querySelector('#df-9a926cdd-611e-41fa-bd17-2950f0b9e2ae');\n",
              "          const dataTable =\n",
              "            await google.colab.kernel.invokeFunction('convertToInteractive',\n",
              "                                                     [key], {});\n",
              "          if (!dataTable) return;\n",
              "\n",
              "          const docLinkHtml = 'Like what you see? Visit the ' +\n",
              "            '<a target=\"_blank\" href=https://colab.research.google.com/notebooks/data_table.ipynb>data table notebook</a>'\n",
              "            + ' to learn more about interactive tables.';\n",
              "          element.innerHTML = '';\n",
              "          dataTable['output_type'] = 'display_data';\n",
              "          await google.colab.output.renderOutput(dataTable, element);\n",
              "          const docLink = document.createElement('div');\n",
              "          docLink.innerHTML = docLinkHtml;\n",
              "          element.appendChild(docLink);\n",
              "        }\n",
              "      </script>\n",
              "    </div>\n",
              "  </div>\n",
              "  "
            ]
          },
          "metadata": {},
          "execution_count": 14
        }
      ]
    },
    {
      "cell_type": "code",
      "metadata": {
        "id": "4wzg03BJZXsi"
      },
      "source": [
        "del priceframe['dropprice']\n",
        "del priceframe['non']"
      ],
      "execution_count": null,
      "outputs": []
    },
    {
      "cell_type": "code",
      "metadata": {
        "id": "u7teOqnCaVQU"
      },
      "source": [
        "boardframe = pd.DataFrame(complete, columns = 'Collected Deck Brand'.split())"
      ],
      "execution_count": null,
      "outputs": []
    },
    {
      "cell_type": "code",
      "metadata": {
        "id": "aHMQ71zFbRzi",
        "colab": {
          "base_uri": "https://localhost:8080/"
        },
        "outputId": "2650373a-3e63-40e3-d5cc-c32e6009186c"
      },
      "source": [
        "df = pd.concat([boardframe,priceframe], axis = 1, sort = 'False')"
      ],
      "execution_count": null,
      "outputs": [
        {
          "output_type": "stream",
          "name": "stderr",
          "text": [
            "<ipython-input-17-98d83e2bdb64>:1: FutureWarning: Passing non boolean values for sort is deprecated and will error in a future version!\n",
            "  df = pd.concat([boardframe,priceframe], axis = 1, sort = 'False')\n"
          ]
        }
      ]
    },
    {
      "cell_type": "code",
      "metadata": {
        "id": "Fr3cfMOpoF00"
      },
      "source": [
        "df['Collected'] = pd.to_datetime(df.Collected)"
      ],
      "execution_count": null,
      "outputs": []
    },
    {
      "cell_type": "code",
      "metadata": {
        "id": "Kr6J2t4XcC1o",
        "outputId": "168a4f8f-d5f1-4520-860f-d873f9c57848",
        "colab": {
          "base_uri": "https://localhost:8080/",
          "height": 206
        }
      },
      "source": [
        "df.head()"
      ],
      "execution_count": null,
      "outputs": [
        {
          "output_type": "execute_result",
          "data": {
            "text/plain": [
              "   Collected                                      Deck   Brand     main  \\\n",
              "0 2023-03-29                 Season Kin Snowboard 2023  Season   499.00   \n",
              "1 2023-03-29            Nitro Prime Raw Snowboard 2023   Nitro   329.95   \n",
              "2 2023-03-29          Jones Hovercraft Splitboard 2023   Jones   899.95   \n",
              "3 2023-03-29          Arbor Coda Rocker Snowboard 2023   Arbor   599.95   \n",
              "4 2023-03-29  Lib Tech T.Rice Apex Orca Snowboard 2023     Lib  1199.99   \n",
              "\n",
              "     sale  \n",
              "0  349.30  \n",
              "1  263.96  \n",
              "2  764.96  \n",
              "3  479.96  \n",
              "4  959.99  "
            ],
            "text/html": [
              "\n",
              "  <div id=\"df-90aeaad6-d088-441b-a420-3cffb053c7f6\">\n",
              "    <div class=\"colab-df-container\">\n",
              "      <div>\n",
              "<style scoped>\n",
              "    .dataframe tbody tr th:only-of-type {\n",
              "        vertical-align: middle;\n",
              "    }\n",
              "\n",
              "    .dataframe tbody tr th {\n",
              "        vertical-align: top;\n",
              "    }\n",
              "\n",
              "    .dataframe thead th {\n",
              "        text-align: right;\n",
              "    }\n",
              "</style>\n",
              "<table border=\"1\" class=\"dataframe\">\n",
              "  <thead>\n",
              "    <tr style=\"text-align: right;\">\n",
              "      <th></th>\n",
              "      <th>Collected</th>\n",
              "      <th>Deck</th>\n",
              "      <th>Brand</th>\n",
              "      <th>main</th>\n",
              "      <th>sale</th>\n",
              "    </tr>\n",
              "  </thead>\n",
              "  <tbody>\n",
              "    <tr>\n",
              "      <th>0</th>\n",
              "      <td>2023-03-29</td>\n",
              "      <td>Season Kin Snowboard 2023</td>\n",
              "      <td>Season</td>\n",
              "      <td>499.00</td>\n",
              "      <td>349.30</td>\n",
              "    </tr>\n",
              "    <tr>\n",
              "      <th>1</th>\n",
              "      <td>2023-03-29</td>\n",
              "      <td>Nitro Prime Raw Snowboard 2023</td>\n",
              "      <td>Nitro</td>\n",
              "      <td>329.95</td>\n",
              "      <td>263.96</td>\n",
              "    </tr>\n",
              "    <tr>\n",
              "      <th>2</th>\n",
              "      <td>2023-03-29</td>\n",
              "      <td>Jones Hovercraft Splitboard 2023</td>\n",
              "      <td>Jones</td>\n",
              "      <td>899.95</td>\n",
              "      <td>764.96</td>\n",
              "    </tr>\n",
              "    <tr>\n",
              "      <th>3</th>\n",
              "      <td>2023-03-29</td>\n",
              "      <td>Arbor Coda Rocker Snowboard 2023</td>\n",
              "      <td>Arbor</td>\n",
              "      <td>599.95</td>\n",
              "      <td>479.96</td>\n",
              "    </tr>\n",
              "    <tr>\n",
              "      <th>4</th>\n",
              "      <td>2023-03-29</td>\n",
              "      <td>Lib Tech T.Rice Apex Orca Snowboard 2023</td>\n",
              "      <td>Lib</td>\n",
              "      <td>1199.99</td>\n",
              "      <td>959.99</td>\n",
              "    </tr>\n",
              "  </tbody>\n",
              "</table>\n",
              "</div>\n",
              "      <button class=\"colab-df-convert\" onclick=\"convertToInteractive('df-90aeaad6-d088-441b-a420-3cffb053c7f6')\"\n",
              "              title=\"Convert this dataframe to an interactive table.\"\n",
              "              style=\"display:none;\">\n",
              "        \n",
              "  <svg xmlns=\"http://www.w3.org/2000/svg\" height=\"24px\"viewBox=\"0 0 24 24\"\n",
              "       width=\"24px\">\n",
              "    <path d=\"M0 0h24v24H0V0z\" fill=\"none\"/>\n",
              "    <path d=\"M18.56 5.44l.94 2.06.94-2.06 2.06-.94-2.06-.94-.94-2.06-.94 2.06-2.06.94zm-11 1L8.5 8.5l.94-2.06 2.06-.94-2.06-.94L8.5 2.5l-.94 2.06-2.06.94zm10 10l.94 2.06.94-2.06 2.06-.94-2.06-.94-.94-2.06-.94 2.06-2.06.94z\"/><path d=\"M17.41 7.96l-1.37-1.37c-.4-.4-.92-.59-1.43-.59-.52 0-1.04.2-1.43.59L10.3 9.45l-7.72 7.72c-.78.78-.78 2.05 0 2.83L4 21.41c.39.39.9.59 1.41.59.51 0 1.02-.2 1.41-.59l7.78-7.78 2.81-2.81c.8-.78.8-2.07 0-2.86zM5.41 20L4 18.59l7.72-7.72 1.47 1.35L5.41 20z\"/>\n",
              "  </svg>\n",
              "      </button>\n",
              "      \n",
              "  <style>\n",
              "    .colab-df-container {\n",
              "      display:flex;\n",
              "      flex-wrap:wrap;\n",
              "      gap: 12px;\n",
              "    }\n",
              "\n",
              "    .colab-df-convert {\n",
              "      background-color: #E8F0FE;\n",
              "      border: none;\n",
              "      border-radius: 50%;\n",
              "      cursor: pointer;\n",
              "      display: none;\n",
              "      fill: #1967D2;\n",
              "      height: 32px;\n",
              "      padding: 0 0 0 0;\n",
              "      width: 32px;\n",
              "    }\n",
              "\n",
              "    .colab-df-convert:hover {\n",
              "      background-color: #E2EBFA;\n",
              "      box-shadow: 0px 1px 2px rgba(60, 64, 67, 0.3), 0px 1px 3px 1px rgba(60, 64, 67, 0.15);\n",
              "      fill: #174EA6;\n",
              "    }\n",
              "\n",
              "    [theme=dark] .colab-df-convert {\n",
              "      background-color: #3B4455;\n",
              "      fill: #D2E3FC;\n",
              "    }\n",
              "\n",
              "    [theme=dark] .colab-df-convert:hover {\n",
              "      background-color: #434B5C;\n",
              "      box-shadow: 0px 1px 3px 1px rgba(0, 0, 0, 0.15);\n",
              "      filter: drop-shadow(0px 1px 2px rgba(0, 0, 0, 0.3));\n",
              "      fill: #FFFFFF;\n",
              "    }\n",
              "  </style>\n",
              "\n",
              "      <script>\n",
              "        const buttonEl =\n",
              "          document.querySelector('#df-90aeaad6-d088-441b-a420-3cffb053c7f6 button.colab-df-convert');\n",
              "        buttonEl.style.display =\n",
              "          google.colab.kernel.accessAllowed ? 'block' : 'none';\n",
              "\n",
              "        async function convertToInteractive(key) {\n",
              "          const element = document.querySelector('#df-90aeaad6-d088-441b-a420-3cffb053c7f6');\n",
              "          const dataTable =\n",
              "            await google.colab.kernel.invokeFunction('convertToInteractive',\n",
              "                                                     [key], {});\n",
              "          if (!dataTable) return;\n",
              "\n",
              "          const docLinkHtml = 'Like what you see? Visit the ' +\n",
              "            '<a target=\"_blank\" href=https://colab.research.google.com/notebooks/data_table.ipynb>data table notebook</a>'\n",
              "            + ' to learn more about interactive tables.';\n",
              "          element.innerHTML = '';\n",
              "          dataTable['output_type'] = 'display_data';\n",
              "          await google.colab.output.renderOutput(dataTable, element);\n",
              "          const docLink = document.createElement('div');\n",
              "          docLink.innerHTML = docLinkHtml;\n",
              "          element.appendChild(docLink);\n",
              "        }\n",
              "      </script>\n",
              "    </div>\n",
              "  </div>\n",
              "  "
            ]
          },
          "metadata": {},
          "execution_count": 19
        }
      ]
    },
    {
      "cell_type": "code",
      "metadata": {
        "id": "wjkM68WueCnH",
        "outputId": "6d64e3a3-f38f-46a3-8712-a7d6bad4c9d6",
        "colab": {
          "base_uri": "https://localhost:8080/"
        }
      },
      "source": [
        "df.dtypes"
      ],
      "execution_count": null,
      "outputs": [
        {
          "output_type": "execute_result",
          "data": {
            "text/plain": [
              "Collected    datetime64[ns]\n",
              "Deck                 object\n",
              "Brand                object\n",
              "main                float64\n",
              "sale                float64\n",
              "dtype: object"
            ]
          },
          "metadata": {},
          "execution_count": 20
        }
      ]
    },
    {
      "cell_type": "code",
      "metadata": {
        "id": "nS8CP0sqewIu",
        "colab": {
          "base_uri": "https://localhost:8080/"
        },
        "outputId": "87801d1c-9659-4f53-fb59-1b733f73fe89"
      },
      "source": [
        "df.info()"
      ],
      "execution_count": null,
      "outputs": [
        {
          "output_type": "stream",
          "name": "stdout",
          "text": [
            "<class 'pandas.core.frame.DataFrame'>\n",
            "RangeIndex: 400 entries, 0 to 399\n",
            "Data columns (total 5 columns):\n",
            " #   Column     Non-Null Count  Dtype         \n",
            "---  ------     --------------  -----         \n",
            " 0   Collected  400 non-null    datetime64[ns]\n",
            " 1   Deck       400 non-null    object        \n",
            " 2   Brand      400 non-null    object        \n",
            " 3   main       400 non-null    float64       \n",
            " 4   sale       333 non-null    float64       \n",
            "dtypes: datetime64[ns](1), float64(2), object(2)\n",
            "memory usage: 15.8+ KB\n"
          ]
        }
      ]
    },
    {
      "cell_type": "code",
      "metadata": {
        "id": "KVsM5N1pmleM"
      },
      "source": [
        "df.to_csv('my_data.csv', mode='a', header=False, index=False)"
      ],
      "execution_count": null,
      "outputs": []
    }
  ]
}