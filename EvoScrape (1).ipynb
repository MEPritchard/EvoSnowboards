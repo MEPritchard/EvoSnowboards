{
  "nbformat": 4,
  "nbformat_minor": 0,
  "metadata": {
    "colab": {
      "provenance": []
    },
    "kernelspec": {
      "name": "python3",
      "display_name": "Python 3"
    },
    "language_info": {
      "name": "python"
    }
  },
  "cells": [
    {
      "cell_type": "code",
      "execution_count": 57,
      "metadata": {
        "id": "Lf6BcCjYO9-r"
      },
      "outputs": [],
      "source": [
        "import requests\n",
        "import re\n",
        "from bs4 import BeautifulSoup as BS\n",
        "import pandas as pd\n",
        "import datetime\n",
        "import csv"
      ]
    },
    {
      "cell_type": "code",
      "metadata": {
        "id": "d89Fk6C7SYGS"
      },
      "source": [
        "evo = \"https://www.evo.com/shop/snowboard/snowboards/rpp_400\"\n",
        "headers = {'User-agent': 'Mozilla/5.0'}\n",
        "response = requests.get(evo, headers = headers)"
      ],
      "execution_count": 58,
      "outputs": []
    },
    {
      "cell_type": "code",
      "metadata": {
        "id": "YNYafellScW_",
        "outputId": "4d06a86b-0335-434c-a190-eadcc642df45",
        "colab": {
          "base_uri": "https://localhost:8080/"
        }
      },
      "source": [
        "response"
      ],
      "execution_count": 59,
      "outputs": [
        {
          "output_type": "execute_result",
          "data": {
            "text/plain": [
              "<Response [200]>"
            ]
          },
          "metadata": {},
          "execution_count": 59
        }
      ]
    },
    {
      "cell_type": "code",
      "metadata": {
        "id": "ZbGJ7hbZShPZ"
      },
      "source": [
        "soup = BS(response.content,'html.parser')"
      ],
      "execution_count": 60,
      "outputs": []
    },
    {
      "cell_type": "code",
      "metadata": {
        "id": "eMnuLRQzS0--"
      },
      "source": [
        "items = soup.find_all('div',{'class':'product-thumb-details'})"
      ],
      "execution_count": 61,
      "outputs": []
    },
    {
      "cell_type": "code",
      "metadata": {
        "id": "BwrlBNAKS9xJ"
      },
      "source": [
        "#The company_cleaner function extract the first word of the product-thumb-title class from a list of items. \n",
        "#The board_cleaner function extracts the entire product-thumb-title text from a list of items.\n",
        "\n",
        "def company_cleaner (item):\n",
        "  names = []\n",
        "  for snowboard in items:\n",
        "    names.append((snowboard.find('span',{'class':'product-thumb-title'}).text).split(' ')[0])\n",
        "\n",
        "  return names\n",
        "\n",
        "def board_cleaner(item):\n",
        "  names = []\n",
        "  for snowboard in items:\n",
        "    names.append((snowboard.find('span',{'class':'product-thumb-title'}).text))\n",
        "  return names\n"
      ],
      "execution_count": 62,
      "outputs": []
    },
    {
      "cell_type": "code",
      "metadata": {
        "id": "M3p2ZeOaHeHT"
      },
      "source": [
        "brands = company_cleaner(items)\n",
        "boards = board_cleaner(items)"
      ],
      "execution_count": 63,
      "outputs": []
    },
    {
      "cell_type": "code",
      "metadata": {
        "id": "CMY9xwJ6-eGn"
      },
      "source": [
        "# This function appears to be using the regular expression library re to extract prices from a list of HTML documents (represented as BeautifulSoup objects). \n",
        "# The regular expression pattern used appears to match decimal numbers with at least one digit before the decimal point and one or two digits after it, with commas allowed as thousands separators.\n",
        "\n",
        "def price_finder(soups):\n",
        "  price_pattern = r'([\\d+\\,]+\\d+\\.\\d{1,2})'\n",
        "  price_list = []\n",
        "  for slop in soups:\n",
        "    price_list.append((re.findall(price_pattern, str(slop))))\n",
        "  return price_list"
      ],
      "execution_count": 64,
      "outputs": []
    },
    {
      "cell_type": "code",
      "metadata": {
        "id": "btOKj-qgJ1s3"
      },
      "source": [
        "stringprices = price_finder(items)"
      ],
      "execution_count": 65,
      "outputs": []
    },
    {
      "cell_type": "code",
      "metadata": {
        "id": "yh6Pzp1LLmRY"
      },
      "source": [
        "#This function takes a list of lists of prices (as strings), and converts them to a list of lists of prices (as floats), removing commas along the way.\n",
        "\n",
        "def price_cleaner(prices):\n",
        "  finalprice=[]\n",
        "  for pricelist in prices:\n",
        "    rinsedprice =[]\n",
        "    finalprice.append(rinsedprice)\n",
        "    for price in pricelist:\n",
        "      rinsedprice.append(float(price.replace(',','')))\n",
        "  return finalprice  "
      ],
      "execution_count": 66,
      "outputs": []
    },
    {
      "cell_type": "code",
      "metadata": {
        "id": "YYSV-DjMOMa2",
        "colab": {
          "base_uri": "https://localhost:8080/"
        },
        "outputId": "3a810e4c-2b03-42a9-869f-644674463bf9"
      },
      "source": [
        "prices = price_cleaner(stringprices)\n",
        "prices[0]"
      ],
      "execution_count": 67,
      "outputs": [
        {
          "output_type": "execute_result",
          "data": {
            "text/plain": [
              "[499.0, 499.0, 349.3]"
            ]
          },
          "metadata": {},
          "execution_count": 67
        }
      ]
    },
    {
      "cell_type": "code",
      "metadata": {
        "id": "tjRi-WLjnZ0D"
      },
      "source": [
        "#Collection date stamp and apply to every row\n",
        "collected = [str(datetime.date.today())]*len(boards)"
      ],
      "execution_count": 68,
      "outputs": []
    },
    {
      "cell_type": "code",
      "metadata": {
        "id": "qDiL7hYHUBRU",
        "colab": {
          "base_uri": "https://localhost:8080/"
        },
        "outputId": "638d1eb8-0cf8-4755-c275-d67db940e0e8"
      },
      "source": [
        "# Bring together lists created by above functions\n",
        "complete = list(zip(collected, boards, brands))\n",
        "complete[0]"
      ],
      "execution_count": 69,
      "outputs": [
        {
          "output_type": "execute_result",
          "data": {
            "text/plain": [
              "('2023-04-01', 'Season Kin Snowboard 2023', 'Season')"
            ]
          },
          "metadata": {},
          "execution_count": 69
        }
      ]
    },
    {
      "cell_type": "code",
      "metadata": {
        "id": "jEiS8pILXBC0",
        "colab": {
          "base_uri": "https://localhost:8080/",
          "height": 206
        },
        "outputId": "de7b76cf-5643-482d-99a2-672b43887909"
      },
      "source": [
        "priceframe = pd.DataFrame(prices, columns = 'main dropprice sale'.split())\n",
        "priceframe.head()"
      ],
      "execution_count": 70,
      "outputs": [
        {
          "output_type": "execute_result",
          "data": {
            "text/plain": [
              "     main  dropprice    sale\n",
              "0  499.00     499.00  349.30\n",
              "1  329.95     329.95  263.96\n",
              "2  899.95     899.95  764.96\n",
              "3  599.95     599.95  479.96\n",
              "4  399.95     399.95  319.96"
            ],
            "text/html": [
              "\n",
              "  <div id=\"df-e10054b8-1a4f-4070-9fbf-663ddf70bdce\">\n",
              "    <div class=\"colab-df-container\">\n",
              "      <div>\n",
              "<style scoped>\n",
              "    .dataframe tbody tr th:only-of-type {\n",
              "        vertical-align: middle;\n",
              "    }\n",
              "\n",
              "    .dataframe tbody tr th {\n",
              "        vertical-align: top;\n",
              "    }\n",
              "\n",
              "    .dataframe thead th {\n",
              "        text-align: right;\n",
              "    }\n",
              "</style>\n",
              "<table border=\"1\" class=\"dataframe\">\n",
              "  <thead>\n",
              "    <tr style=\"text-align: right;\">\n",
              "      <th></th>\n",
              "      <th>main</th>\n",
              "      <th>dropprice</th>\n",
              "      <th>sale</th>\n",
              "    </tr>\n",
              "  </thead>\n",
              "  <tbody>\n",
              "    <tr>\n",
              "      <th>0</th>\n",
              "      <td>499.00</td>\n",
              "      <td>499.00</td>\n",
              "      <td>349.30</td>\n",
              "    </tr>\n",
              "    <tr>\n",
              "      <th>1</th>\n",
              "      <td>329.95</td>\n",
              "      <td>329.95</td>\n",
              "      <td>263.96</td>\n",
              "    </tr>\n",
              "    <tr>\n",
              "      <th>2</th>\n",
              "      <td>899.95</td>\n",
              "      <td>899.95</td>\n",
              "      <td>764.96</td>\n",
              "    </tr>\n",
              "    <tr>\n",
              "      <th>3</th>\n",
              "      <td>599.95</td>\n",
              "      <td>599.95</td>\n",
              "      <td>479.96</td>\n",
              "    </tr>\n",
              "    <tr>\n",
              "      <th>4</th>\n",
              "      <td>399.95</td>\n",
              "      <td>399.95</td>\n",
              "      <td>319.96</td>\n",
              "    </tr>\n",
              "  </tbody>\n",
              "</table>\n",
              "</div>\n",
              "      <button class=\"colab-df-convert\" onclick=\"convertToInteractive('df-e10054b8-1a4f-4070-9fbf-663ddf70bdce')\"\n",
              "              title=\"Convert this dataframe to an interactive table.\"\n",
              "              style=\"display:none;\">\n",
              "        \n",
              "  <svg xmlns=\"http://www.w3.org/2000/svg\" height=\"24px\"viewBox=\"0 0 24 24\"\n",
              "       width=\"24px\">\n",
              "    <path d=\"M0 0h24v24H0V0z\" fill=\"none\"/>\n",
              "    <path d=\"M18.56 5.44l.94 2.06.94-2.06 2.06-.94-2.06-.94-.94-2.06-.94 2.06-2.06.94zm-11 1L8.5 8.5l.94-2.06 2.06-.94-2.06-.94L8.5 2.5l-.94 2.06-2.06.94zm10 10l.94 2.06.94-2.06 2.06-.94-2.06-.94-.94-2.06-.94 2.06-2.06.94z\"/><path d=\"M17.41 7.96l-1.37-1.37c-.4-.4-.92-.59-1.43-.59-.52 0-1.04.2-1.43.59L10.3 9.45l-7.72 7.72c-.78.78-.78 2.05 0 2.83L4 21.41c.39.39.9.59 1.41.59.51 0 1.02-.2 1.41-.59l7.78-7.78 2.81-2.81c.8-.78.8-2.07 0-2.86zM5.41 20L4 18.59l7.72-7.72 1.47 1.35L5.41 20z\"/>\n",
              "  </svg>\n",
              "      </button>\n",
              "      \n",
              "  <style>\n",
              "    .colab-df-container {\n",
              "      display:flex;\n",
              "      flex-wrap:wrap;\n",
              "      gap: 12px;\n",
              "    }\n",
              "\n",
              "    .colab-df-convert {\n",
              "      background-color: #E8F0FE;\n",
              "      border: none;\n",
              "      border-radius: 50%;\n",
              "      cursor: pointer;\n",
              "      display: none;\n",
              "      fill: #1967D2;\n",
              "      height: 32px;\n",
              "      padding: 0 0 0 0;\n",
              "      width: 32px;\n",
              "    }\n",
              "\n",
              "    .colab-df-convert:hover {\n",
              "      background-color: #E2EBFA;\n",
              "      box-shadow: 0px 1px 2px rgba(60, 64, 67, 0.3), 0px 1px 3px 1px rgba(60, 64, 67, 0.15);\n",
              "      fill: #174EA6;\n",
              "    }\n",
              "\n",
              "    [theme=dark] .colab-df-convert {\n",
              "      background-color: #3B4455;\n",
              "      fill: #D2E3FC;\n",
              "    }\n",
              "\n",
              "    [theme=dark] .colab-df-convert:hover {\n",
              "      background-color: #434B5C;\n",
              "      box-shadow: 0px 1px 3px 1px rgba(0, 0, 0, 0.15);\n",
              "      filter: drop-shadow(0px 1px 2px rgba(0, 0, 0, 0.3));\n",
              "      fill: #FFFFFF;\n",
              "    }\n",
              "  </style>\n",
              "\n",
              "      <script>\n",
              "        const buttonEl =\n",
              "          document.querySelector('#df-e10054b8-1a4f-4070-9fbf-663ddf70bdce button.colab-df-convert');\n",
              "        buttonEl.style.display =\n",
              "          google.colab.kernel.accessAllowed ? 'block' : 'none';\n",
              "\n",
              "        async function convertToInteractive(key) {\n",
              "          const element = document.querySelector('#df-e10054b8-1a4f-4070-9fbf-663ddf70bdce');\n",
              "          const dataTable =\n",
              "            await google.colab.kernel.invokeFunction('convertToInteractive',\n",
              "                                                     [key], {});\n",
              "          if (!dataTable) return;\n",
              "\n",
              "          const docLinkHtml = 'Like what you see? Visit the ' +\n",
              "            '<a target=\"_blank\" href=https://colab.research.google.com/notebooks/data_table.ipynb>data table notebook</a>'\n",
              "            + ' to learn more about interactive tables.';\n",
              "          element.innerHTML = '';\n",
              "          dataTable['output_type'] = 'display_data';\n",
              "          await google.colab.output.renderOutput(dataTable, element);\n",
              "          const docLink = document.createElement('div');\n",
              "          docLink.innerHTML = docLinkHtml;\n",
              "          element.appendChild(docLink);\n",
              "        }\n",
              "      </script>\n",
              "    </div>\n",
              "  </div>\n",
              "  "
            ]
          },
          "metadata": {},
          "execution_count": 70
        }
      ]
    },
    {
      "cell_type": "code",
      "metadata": {
        "id": "4wzg03BJZXsi"
      },
      "source": [
        "del priceframe['dropprice']"
      ],
      "execution_count": 71,
      "outputs": []
    },
    {
      "cell_type": "code",
      "metadata": {
        "id": "u7teOqnCaVQU"
      },
      "source": [
        "boardframe = pd.DataFrame(complete, columns = 'Collected Deck Brand'.split())"
      ],
      "execution_count": 72,
      "outputs": []
    },
    {
      "cell_type": "code",
      "metadata": {
        "id": "aHMQ71zFbRzi",
        "colab": {
          "base_uri": "https://localhost:8080/"
        },
        "outputId": "7e829704-e0a4-43f0-8a0b-fcba1bdc7aa9"
      },
      "source": [
        "df = pd.concat([boardframe,priceframe], axis = 1, sort = 'False')"
      ],
      "execution_count": 73,
      "outputs": [
        {
          "output_type": "stream",
          "name": "stderr",
          "text": [
            "<ipython-input-73-98d83e2bdb64>:1: FutureWarning: Passing non boolean values for sort is deprecated and will error in a future version!\n",
            "  df = pd.concat([boardframe,priceframe], axis = 1, sort = 'False')\n"
          ]
        }
      ]
    },
    {
      "cell_type": "code",
      "metadata": {
        "id": "Fr3cfMOpoF00"
      },
      "source": [
        "df['Collected'] = pd.to_datetime(df.Collected)"
      ],
      "execution_count": 74,
      "outputs": []
    },
    {
      "cell_type": "code",
      "metadata": {
        "id": "Kr6J2t4XcC1o",
        "outputId": "74fa0532-727b-43f0-887b-e1d2c547c37a",
        "colab": {
          "base_uri": "https://localhost:8080/",
          "height": 206
        }
      },
      "source": [
        "df.head()"
      ],
      "execution_count": 75,
      "outputs": [
        {
          "output_type": "execute_result",
          "data": {
            "text/plain": [
              "   Collected                                     Deck     Brand    main  \\\n",
              "0 2023-04-01                Season Kin Snowboard 2023    Season  499.00   \n",
              "1 2023-04-01           Nitro Prime Raw Snowboard 2023     Nitro  329.95   \n",
              "2 2023-04-01         Jones Hovercraft Splitboard 2023     Jones  899.95   \n",
              "3 2023-04-01         Arbor Coda Rocker Snowboard 2023     Arbor  599.95   \n",
              "4 2023-04-01  Nidecker Venus Snowboard - Women's 2023  Nidecker  399.95   \n",
              "\n",
              "     sale  \n",
              "0  349.30  \n",
              "1  263.96  \n",
              "2  764.96  \n",
              "3  479.96  \n",
              "4  319.96  "
            ],
            "text/html": [
              "\n",
              "  <div id=\"df-c803b26d-fb70-4028-82a4-2bdc576dbae8\">\n",
              "    <div class=\"colab-df-container\">\n",
              "      <div>\n",
              "<style scoped>\n",
              "    .dataframe tbody tr th:only-of-type {\n",
              "        vertical-align: middle;\n",
              "    }\n",
              "\n",
              "    .dataframe tbody tr th {\n",
              "        vertical-align: top;\n",
              "    }\n",
              "\n",
              "    .dataframe thead th {\n",
              "        text-align: right;\n",
              "    }\n",
              "</style>\n",
              "<table border=\"1\" class=\"dataframe\">\n",
              "  <thead>\n",
              "    <tr style=\"text-align: right;\">\n",
              "      <th></th>\n",
              "      <th>Collected</th>\n",
              "      <th>Deck</th>\n",
              "      <th>Brand</th>\n",
              "      <th>main</th>\n",
              "      <th>sale</th>\n",
              "    </tr>\n",
              "  </thead>\n",
              "  <tbody>\n",
              "    <tr>\n",
              "      <th>0</th>\n",
              "      <td>2023-04-01</td>\n",
              "      <td>Season Kin Snowboard 2023</td>\n",
              "      <td>Season</td>\n",
              "      <td>499.00</td>\n",
              "      <td>349.30</td>\n",
              "    </tr>\n",
              "    <tr>\n",
              "      <th>1</th>\n",
              "      <td>2023-04-01</td>\n",
              "      <td>Nitro Prime Raw Snowboard 2023</td>\n",
              "      <td>Nitro</td>\n",
              "      <td>329.95</td>\n",
              "      <td>263.96</td>\n",
              "    </tr>\n",
              "    <tr>\n",
              "      <th>2</th>\n",
              "      <td>2023-04-01</td>\n",
              "      <td>Jones Hovercraft Splitboard 2023</td>\n",
              "      <td>Jones</td>\n",
              "      <td>899.95</td>\n",
              "      <td>764.96</td>\n",
              "    </tr>\n",
              "    <tr>\n",
              "      <th>3</th>\n",
              "      <td>2023-04-01</td>\n",
              "      <td>Arbor Coda Rocker Snowboard 2023</td>\n",
              "      <td>Arbor</td>\n",
              "      <td>599.95</td>\n",
              "      <td>479.96</td>\n",
              "    </tr>\n",
              "    <tr>\n",
              "      <th>4</th>\n",
              "      <td>2023-04-01</td>\n",
              "      <td>Nidecker Venus Snowboard - Women's 2023</td>\n",
              "      <td>Nidecker</td>\n",
              "      <td>399.95</td>\n",
              "      <td>319.96</td>\n",
              "    </tr>\n",
              "  </tbody>\n",
              "</table>\n",
              "</div>\n",
              "      <button class=\"colab-df-convert\" onclick=\"convertToInteractive('df-c803b26d-fb70-4028-82a4-2bdc576dbae8')\"\n",
              "              title=\"Convert this dataframe to an interactive table.\"\n",
              "              style=\"display:none;\">\n",
              "        \n",
              "  <svg xmlns=\"http://www.w3.org/2000/svg\" height=\"24px\"viewBox=\"0 0 24 24\"\n",
              "       width=\"24px\">\n",
              "    <path d=\"M0 0h24v24H0V0z\" fill=\"none\"/>\n",
              "    <path d=\"M18.56 5.44l.94 2.06.94-2.06 2.06-.94-2.06-.94-.94-2.06-.94 2.06-2.06.94zm-11 1L8.5 8.5l.94-2.06 2.06-.94-2.06-.94L8.5 2.5l-.94 2.06-2.06.94zm10 10l.94 2.06.94-2.06 2.06-.94-2.06-.94-.94-2.06-.94 2.06-2.06.94z\"/><path d=\"M17.41 7.96l-1.37-1.37c-.4-.4-.92-.59-1.43-.59-.52 0-1.04.2-1.43.59L10.3 9.45l-7.72 7.72c-.78.78-.78 2.05 0 2.83L4 21.41c.39.39.9.59 1.41.59.51 0 1.02-.2 1.41-.59l7.78-7.78 2.81-2.81c.8-.78.8-2.07 0-2.86zM5.41 20L4 18.59l7.72-7.72 1.47 1.35L5.41 20z\"/>\n",
              "  </svg>\n",
              "      </button>\n",
              "      \n",
              "  <style>\n",
              "    .colab-df-container {\n",
              "      display:flex;\n",
              "      flex-wrap:wrap;\n",
              "      gap: 12px;\n",
              "    }\n",
              "\n",
              "    .colab-df-convert {\n",
              "      background-color: #E8F0FE;\n",
              "      border: none;\n",
              "      border-radius: 50%;\n",
              "      cursor: pointer;\n",
              "      display: none;\n",
              "      fill: #1967D2;\n",
              "      height: 32px;\n",
              "      padding: 0 0 0 0;\n",
              "      width: 32px;\n",
              "    }\n",
              "\n",
              "    .colab-df-convert:hover {\n",
              "      background-color: #E2EBFA;\n",
              "      box-shadow: 0px 1px 2px rgba(60, 64, 67, 0.3), 0px 1px 3px 1px rgba(60, 64, 67, 0.15);\n",
              "      fill: #174EA6;\n",
              "    }\n",
              "\n",
              "    [theme=dark] .colab-df-convert {\n",
              "      background-color: #3B4455;\n",
              "      fill: #D2E3FC;\n",
              "    }\n",
              "\n",
              "    [theme=dark] .colab-df-convert:hover {\n",
              "      background-color: #434B5C;\n",
              "      box-shadow: 0px 1px 3px 1px rgba(0, 0, 0, 0.15);\n",
              "      filter: drop-shadow(0px 1px 2px rgba(0, 0, 0, 0.3));\n",
              "      fill: #FFFFFF;\n",
              "    }\n",
              "  </style>\n",
              "\n",
              "      <script>\n",
              "        const buttonEl =\n",
              "          document.querySelector('#df-c803b26d-fb70-4028-82a4-2bdc576dbae8 button.colab-df-convert');\n",
              "        buttonEl.style.display =\n",
              "          google.colab.kernel.accessAllowed ? 'block' : 'none';\n",
              "\n",
              "        async function convertToInteractive(key) {\n",
              "          const element = document.querySelector('#df-c803b26d-fb70-4028-82a4-2bdc576dbae8');\n",
              "          const dataTable =\n",
              "            await google.colab.kernel.invokeFunction('convertToInteractive',\n",
              "                                                     [key], {});\n",
              "          if (!dataTable) return;\n",
              "\n",
              "          const docLinkHtml = 'Like what you see? Visit the ' +\n",
              "            '<a target=\"_blank\" href=https://colab.research.google.com/notebooks/data_table.ipynb>data table notebook</a>'\n",
              "            + ' to learn more about interactive tables.';\n",
              "          element.innerHTML = '';\n",
              "          dataTable['output_type'] = 'display_data';\n",
              "          await google.colab.output.renderOutput(dataTable, element);\n",
              "          const docLink = document.createElement('div');\n",
              "          docLink.innerHTML = docLinkHtml;\n",
              "          element.appendChild(docLink);\n",
              "        }\n",
              "      </script>\n",
              "    </div>\n",
              "  </div>\n",
              "  "
            ]
          },
          "metadata": {},
          "execution_count": 75
        }
      ]
    },
    {
      "cell_type": "code",
      "metadata": {
        "id": "wjkM68WueCnH",
        "outputId": "ff91d836-0bf9-4ccc-ea44-37ea6ce86870",
        "colab": {
          "base_uri": "https://localhost:8080/"
        }
      },
      "source": [
        "df.dtypes"
      ],
      "execution_count": 76,
      "outputs": [
        {
          "output_type": "execute_result",
          "data": {
            "text/plain": [
              "Collected    datetime64[ns]\n",
              "Deck                 object\n",
              "Brand                object\n",
              "main                float64\n",
              "sale                float64\n",
              "dtype: object"
            ]
          },
          "metadata": {},
          "execution_count": 76
        }
      ]
    },
    {
      "cell_type": "code",
      "metadata": {
        "id": "nS8CP0sqewIu",
        "colab": {
          "base_uri": "https://localhost:8080/"
        },
        "outputId": "4b44a1cf-f169-4e8e-e2a9-72cebdff7b6c"
      },
      "source": [
        "df.info()"
      ],
      "execution_count": 77,
      "outputs": [
        {
          "output_type": "stream",
          "name": "stdout",
          "text": [
            "<class 'pandas.core.frame.DataFrame'>\n",
            "RangeIndex: 400 entries, 0 to 399\n",
            "Data columns (total 5 columns):\n",
            " #   Column     Non-Null Count  Dtype         \n",
            "---  ------     --------------  -----         \n",
            " 0   Collected  400 non-null    datetime64[ns]\n",
            " 1   Deck       400 non-null    object        \n",
            " 2   Brand      400 non-null    object        \n",
            " 3   main       400 non-null    float64       \n",
            " 4   sale       335 non-null    float64       \n",
            "dtypes: datetime64[ns](1), float64(2), object(2)\n",
            "memory usage: 15.8+ KB\n"
          ]
        }
      ]
    },
    {
      "cell_type": "code",
      "metadata": {
        "id": "KVsM5N1pmleM",
        "colab": {
          "base_uri": "https://localhost:8080/"
        },
        "outputId": "1690ed75-73ca-4a6d-e0b4-7fcb48d78778"
      },
      "source": [
        "from google.colab import drive\n",
        "drive.mount('/drive')\n"
      ],
      "execution_count": 82,
      "outputs": [
        {
          "output_type": "stream",
          "name": "stdout",
          "text": [
            "Drive already mounted at /drive; to attempt to forcibly remount, call drive.mount(\"/drive\", force_remount=True).\n"
          ]
        }
      ]
    },
    {
      "cell_type": "code",
      "source": [
        "'''Ran one time to start the csv,\n",
        "#df.to_csv('/drive/My Drive/Colab Notebooks/Evodata/evodata.csv')'''\n",
        "#df.to_csv('/drive/My Drive/Colab Notebooks/Evodata/evodata.csv', mode='a', header=False)"
      ],
      "metadata": {
        "id": "5d5VAWVLw706"
      },
      "execution_count": 85,
      "outputs": []
    },
    {
      "cell_type": "code",
      "source": [
        "df2 = pd.read_csv('/drive/My Drive/Colab Notebooks/Evodata/evodata.csv')"
      ],
      "metadata": {
        "id": "NX_uHyFeFgvc"
      },
      "execution_count": 86,
      "outputs": []
    },
    {
      "cell_type": "code",
      "source": [
        "df2.tail()"
      ],
      "metadata": {
        "colab": {
          "base_uri": "https://localhost:8080/",
          "height": 206
        },
        "id": "ZtNwUVVzFwsl",
        "outputId": "8ddaa17c-971d-49e6-be38-298ced161a68"
      },
      "execution_count": 81,
      "outputs": [
        {
          "output_type": "execute_result",
          "data": {
            "text/plain": [
              "     Unnamed: 0   Collected                                             Deck  \\\n",
              "1195        395  2023-04-01            WNDR Alpine BelleTour Splitboard 2023   \n",
              "1196        396  2023-04-01               Rossignol XV Sushi Splitboard 2024   \n",
              "1197        397  2023-04-01  Rossignol After Hours Splitboard - Women's 2024   \n",
              "1198        398  2023-04-01          Moss Snowstick Fluffy 54 Snowboard 2023   \n",
              "1199        399  2023-04-01     Arbor Swoon Rocker Splitboard - Women's 2023   \n",
              "\n",
              "          Brand    main   sale  \n",
              "1195       WNDR  899.00  809.1  \n",
              "1196  Rossignol  679.95    NaN  \n",
              "1197  Rossignol  679.95    NaN  \n",
              "1198       Moss  990.00    NaN  \n",
              "1199      Arbor  749.95    NaN  "
            ],
            "text/html": [
              "\n",
              "  <div id=\"df-10db73ef-3745-40da-a851-3f5bbec52183\">\n",
              "    <div class=\"colab-df-container\">\n",
              "      <div>\n",
              "<style scoped>\n",
              "    .dataframe tbody tr th:only-of-type {\n",
              "        vertical-align: middle;\n",
              "    }\n",
              "\n",
              "    .dataframe tbody tr th {\n",
              "        vertical-align: top;\n",
              "    }\n",
              "\n",
              "    .dataframe thead th {\n",
              "        text-align: right;\n",
              "    }\n",
              "</style>\n",
              "<table border=\"1\" class=\"dataframe\">\n",
              "  <thead>\n",
              "    <tr style=\"text-align: right;\">\n",
              "      <th></th>\n",
              "      <th>Unnamed: 0</th>\n",
              "      <th>Collected</th>\n",
              "      <th>Deck</th>\n",
              "      <th>Brand</th>\n",
              "      <th>main</th>\n",
              "      <th>sale</th>\n",
              "    </tr>\n",
              "  </thead>\n",
              "  <tbody>\n",
              "    <tr>\n",
              "      <th>1195</th>\n",
              "      <td>395</td>\n",
              "      <td>2023-04-01</td>\n",
              "      <td>WNDR Alpine BelleTour Splitboard 2023</td>\n",
              "      <td>WNDR</td>\n",
              "      <td>899.00</td>\n",
              "      <td>809.1</td>\n",
              "    </tr>\n",
              "    <tr>\n",
              "      <th>1196</th>\n",
              "      <td>396</td>\n",
              "      <td>2023-04-01</td>\n",
              "      <td>Rossignol XV Sushi Splitboard 2024</td>\n",
              "      <td>Rossignol</td>\n",
              "      <td>679.95</td>\n",
              "      <td>NaN</td>\n",
              "    </tr>\n",
              "    <tr>\n",
              "      <th>1197</th>\n",
              "      <td>397</td>\n",
              "      <td>2023-04-01</td>\n",
              "      <td>Rossignol After Hours Splitboard - Women's 2024</td>\n",
              "      <td>Rossignol</td>\n",
              "      <td>679.95</td>\n",
              "      <td>NaN</td>\n",
              "    </tr>\n",
              "    <tr>\n",
              "      <th>1198</th>\n",
              "      <td>398</td>\n",
              "      <td>2023-04-01</td>\n",
              "      <td>Moss Snowstick Fluffy 54 Snowboard 2023</td>\n",
              "      <td>Moss</td>\n",
              "      <td>990.00</td>\n",
              "      <td>NaN</td>\n",
              "    </tr>\n",
              "    <tr>\n",
              "      <th>1199</th>\n",
              "      <td>399</td>\n",
              "      <td>2023-04-01</td>\n",
              "      <td>Arbor Swoon Rocker Splitboard - Women's 2023</td>\n",
              "      <td>Arbor</td>\n",
              "      <td>749.95</td>\n",
              "      <td>NaN</td>\n",
              "    </tr>\n",
              "  </tbody>\n",
              "</table>\n",
              "</div>\n",
              "      <button class=\"colab-df-convert\" onclick=\"convertToInteractive('df-10db73ef-3745-40da-a851-3f5bbec52183')\"\n",
              "              title=\"Convert this dataframe to an interactive table.\"\n",
              "              style=\"display:none;\">\n",
              "        \n",
              "  <svg xmlns=\"http://www.w3.org/2000/svg\" height=\"24px\"viewBox=\"0 0 24 24\"\n",
              "       width=\"24px\">\n",
              "    <path d=\"M0 0h24v24H0V0z\" fill=\"none\"/>\n",
              "    <path d=\"M18.56 5.44l.94 2.06.94-2.06 2.06-.94-2.06-.94-.94-2.06-.94 2.06-2.06.94zm-11 1L8.5 8.5l.94-2.06 2.06-.94-2.06-.94L8.5 2.5l-.94 2.06-2.06.94zm10 10l.94 2.06.94-2.06 2.06-.94-2.06-.94-.94-2.06-.94 2.06-2.06.94z\"/><path d=\"M17.41 7.96l-1.37-1.37c-.4-.4-.92-.59-1.43-.59-.52 0-1.04.2-1.43.59L10.3 9.45l-7.72 7.72c-.78.78-.78 2.05 0 2.83L4 21.41c.39.39.9.59 1.41.59.51 0 1.02-.2 1.41-.59l7.78-7.78 2.81-2.81c.8-.78.8-2.07 0-2.86zM5.41 20L4 18.59l7.72-7.72 1.47 1.35L5.41 20z\"/>\n",
              "  </svg>\n",
              "      </button>\n",
              "      \n",
              "  <style>\n",
              "    .colab-df-container {\n",
              "      display:flex;\n",
              "      flex-wrap:wrap;\n",
              "      gap: 12px;\n",
              "    }\n",
              "\n",
              "    .colab-df-convert {\n",
              "      background-color: #E8F0FE;\n",
              "      border: none;\n",
              "      border-radius: 50%;\n",
              "      cursor: pointer;\n",
              "      display: none;\n",
              "      fill: #1967D2;\n",
              "      height: 32px;\n",
              "      padding: 0 0 0 0;\n",
              "      width: 32px;\n",
              "    }\n",
              "\n",
              "    .colab-df-convert:hover {\n",
              "      background-color: #E2EBFA;\n",
              "      box-shadow: 0px 1px 2px rgba(60, 64, 67, 0.3), 0px 1px 3px 1px rgba(60, 64, 67, 0.15);\n",
              "      fill: #174EA6;\n",
              "    }\n",
              "\n",
              "    [theme=dark] .colab-df-convert {\n",
              "      background-color: #3B4455;\n",
              "      fill: #D2E3FC;\n",
              "    }\n",
              "\n",
              "    [theme=dark] .colab-df-convert:hover {\n",
              "      background-color: #434B5C;\n",
              "      box-shadow: 0px 1px 3px 1px rgba(0, 0, 0, 0.15);\n",
              "      filter: drop-shadow(0px 1px 2px rgba(0, 0, 0, 0.3));\n",
              "      fill: #FFFFFF;\n",
              "    }\n",
              "  </style>\n",
              "\n",
              "      <script>\n",
              "        const buttonEl =\n",
              "          document.querySelector('#df-10db73ef-3745-40da-a851-3f5bbec52183 button.colab-df-convert');\n",
              "        buttonEl.style.display =\n",
              "          google.colab.kernel.accessAllowed ? 'block' : 'none';\n",
              "\n",
              "        async function convertToInteractive(key) {\n",
              "          const element = document.querySelector('#df-10db73ef-3745-40da-a851-3f5bbec52183');\n",
              "          const dataTable =\n",
              "            await google.colab.kernel.invokeFunction('convertToInteractive',\n",
              "                                                     [key], {});\n",
              "          if (!dataTable) return;\n",
              "\n",
              "          const docLinkHtml = 'Like what you see? Visit the ' +\n",
              "            '<a target=\"_blank\" href=https://colab.research.google.com/notebooks/data_table.ipynb>data table notebook</a>'\n",
              "            + ' to learn more about interactive tables.';\n",
              "          element.innerHTML = '';\n",
              "          dataTable['output_type'] = 'display_data';\n",
              "          await google.colab.output.renderOutput(dataTable, element);\n",
              "          const docLink = document.createElement('div');\n",
              "          docLink.innerHTML = docLinkHtml;\n",
              "          element.appendChild(docLink);\n",
              "        }\n",
              "      </script>\n",
              "    </div>\n",
              "  </div>\n",
              "  "
            ]
          },
          "metadata": {},
          "execution_count": 81
        }
      ]
    }
  ]
}